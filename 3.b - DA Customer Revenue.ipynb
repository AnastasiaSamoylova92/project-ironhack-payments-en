{
 "cells": [
  {
   "cell_type": "markdown",
   "metadata": {},
   "source": [
    "# Data Analysis - Customer Revenue\n",
    "\n",
    "\n",
    "## Conclusions & key findings:\n",
    "\n",
    "\n",
    "Pareto Analysis: What percentage of users generate the majority of the revenue?\n",
    "- In this case, the distribution does not follow the traditional 80/20 Pareto principle. \n",
    "- Instead, 55% of customers contribute to 80% of the revenue.\n",
    "\n",
    "\n",
    "Key Implications:\n",
    "1. Lower Revenue Concentration – Less reliance on a few high-value customers, reducing risk.\n",
    "2. Higher Customer Dependence – Requires a larger customer base to sustain revenue.\n",
    "3. Increased Costs – More customers mean higher acquisition and service costs.\n",
    "4. Growth Opportunities – Potential for upselling.\n",
    "5. Different Market Strategy – Likely a mass-market approach rather than premium-focused.\n",
    "\n",
    "<br>"
   ]
  },
  {
   "cell_type": "code",
   "execution_count": 107,
   "metadata": {},
   "outputs": [],
   "source": [
    "import pandas as pd\n",
    "import matplotlib.pyplot as plt\n",
    "\n",
    "cash_request = pd.read_parquet(\"cleaned_requests.parquet\", engine=\"pyarrow\")\n",
    "fees = pd.read_parquet(\"cleaned_fees.parquet\", engine=\"pyarrow\")\n"
   ]
  },
  {
   "cell_type": "code",
   "execution_count": 108,
   "metadata": {},
   "outputs": [],
   "source": [
    "fees.head(5)\n",
    "\n",
    "# merge fees & cash_request\n",
    "merged_data = pd.merge(fees, cash_request, left_on=\"cash_request_id\", right_on=\"id\", how=\"inner\", suffixes=('_fees', '_cash_request'))\n",
    "\n",
    "# for deleted accounts, fill the user_id with the deleted_account_id\n",
    "cash_request[\"user_id\"] = cash_request[\"user_id\"].fillna(cash_request[\"deleted_account_id\"])\n",
    "\n",
    "\n",
    "with pd.option_context(\"display.max_columns\", None):\n",
    "    # display(merged_data.head(5))\n",
    "    pass\n"
   ]
  },
  {
   "cell_type": "code",
   "execution_count": 109,
   "metadata": {},
   "outputs": [],
   "source": [
    "# get total fees per customer\n",
    "total_fees_per_customer = merged_data.groupby(\"user_id\").agg({\"total_amount\": \"sum\"}).reset_index()\n",
    "\n",
    "# display(total_fees_per_customer)"
   ]
  },
  {
   "cell_type": "code",
   "execution_count": 110,
   "metadata": {},
   "outputs": [
    {
     "name": "stdout",
     "output_type": "stream",
     "text": [
      "Top 10 customers represent: 0.11% of the total number of customers.\n",
      "Top 10 customers generate: 1.2% of the total revenue. \n",
      "\n",
      "Top 20 customers represent: 0.23% of the total number of customers.\n",
      "Top 20 customers generate: 2.01% of the total revenue. \n",
      "\n",
      "Top 30 customers represent: 0.34% of the total number of customers.\n",
      "Top 30 customers generate: 2.69% of the total revenue. \n",
      "\n",
      "Top 40 customers represent: 0.45% of the total number of customers.\n",
      "Top 40 customers generate: 3.32% of the total revenue. \n",
      "\n",
      "Top 50 customers represent: 0.56% of the total number of customers.\n",
      "Top 50 customers generate: 3.89% of the total revenue. \n",
      "\n"
     ]
    }
   ],
   "source": [
    "#\n",
    "# Analysis on the top customers\n",
    "#\n",
    "\n",
    "def print_top_customers_info(n):\n",
    "    # get the top \"n\" customers with the highest total fees\n",
    "    top_customers = total_fees_per_customer.nlargest(n, \"total_amount\")\n",
    "\n",
    "\n",
    "    # get the percentage of customers\n",
    "    total_number_of_customers = total_fees_per_customer[\"user_id\"].count()\n",
    "    percentage_from_total_users = n / total_number_of_customers * 100\n",
    "    print(f\"Top {n} customers represent: {round(percentage_from_total_users, 2)}% of the total number of customers.\")\n",
    "\n",
    "\n",
    "    # check how much revenue generate the top \"n\" customers\n",
    "    total_revenue = total_fees_per_customer[\"total_amount\"].sum()\n",
    "    top_customers_revenue = top_customers[\"total_amount\"].sum()\n",
    "    percentage_revenue = top_customers_revenue / total_revenue * 100\n",
    "    print(f\"Top {n} customers generate: {round(percentage_revenue, 2)}% of the total revenue. \\n\")\n",
    "\n",
    "\n",
    "print_top_customers_info(10)\n",
    "print_top_customers_info(20)\n",
    "print_top_customers_info(30)\n",
    "print_top_customers_info(40)\n",
    "print_top_customers_info(50)\n"
   ]
  },
  {
   "cell_type": "code",
   "execution_count": 111,
   "metadata": {},
   "outputs": [
    {
     "name": "stdout",
     "output_type": "stream",
     "text": [
      "Number of customers contributing to 80% of revenue: 4841\n",
      "Percentage of customers contributing to 80% of revenue: 54.56%\n"
     ]
    }
   ],
   "source": [
    "#\n",
    "# Pareto Analysis\n",
    "#\n",
    "# (check how many customers generate 80% of the revenue)\n",
    "#\n",
    "\n",
    "\n",
    "# sort the total fees per customer in descending order\n",
    "total_fees_per_customer = total_fees_per_customer.sort_values(by=\"total_amount\", ascending=False)\n",
    "\n",
    "# calculate the cumulative sum and the cumulative percentage of the total fees\n",
    "total_fees_per_customer[\"cumulative_sum\"] = total_fees_per_customer[\"total_amount\"].cumsum()\n",
    "total_fees_per_customer['cumulative_percentage'] = total_fees_per_customer['cumulative_sum'] / total_revenue * 100\n",
    "\n",
    "# get the total revenue and the total number of customers\n",
    "total_revenue = total_fees_per_customer[\"total_amount\"].sum()\n",
    "total_number_of_customers = len(total_fees_per_customer)\n",
    "\n",
    "# Find the number of customers contributing to 80% of revenue\n",
    "num_customers = (total_fees_per_customer[\"cumulative_sum\"] <= 0.8 * total_revenue).sum()\n",
    "\n",
    "print(f\"Number of customers contributing to 80% of revenue: {num_customers}\")\n",
    "print(f\"Percentage of customers contributing to 80% of revenue: {round(num_customers / total_number_of_customers * 100, 2)}%\")\n"
   ]
  },
  {
   "cell_type": "code",
   "execution_count": null,
   "metadata": {},
   "outputs": [],
   "source": [
    "# \n",
    "# Display results from Pareto Analysis\n",
    "# \n",
    "\n",
    "# Create the figure and axis\n",
    "fig, ax1 = plt.subplots(figsize=(12, 6))\n",
    "\n",
    "# Bar plot for individual customer revenue\n",
    "bars = ax1.bar(range(len(total_fees_per_customer)), total_fees_per_customer['total_amount'], color='b', alpha=0.6)\n",
    "ax1.set_xlabel('Customers (Sorted by Revenue)')\n",
    "ax1.set_ylabel('Revenue per Customer', color='b')\n",
    "ax1.tick_params(axis='y', labelcolor='b')\n",
    "\n",
    "# Create second y-axis for cumulative percentage\n",
    "ax2 = ax1.twinx()\n",
    "ax2.plot(range(len(total_fees_per_customer)), total_fees_per_customer['cumulative_percentage'], color='fuchsia', marker='o', linewidth=1, markersize=2)\n",
    "ax2.set_ylabel('Cumulative Percentage of Revenue', color='fuchsia')\n",
    "ax2.tick_params(axis='y', labelcolor='fuchsia')\n",
    "\n",
    "# Add 80% line\n",
    "ax2.axhline(y=80, color='g', linestyle='--', label='80% Revenue Threshold')\n",
    "\n",
    "plt.title('Pareto Chart: Customer Revenue Distribution')\n",
    "plt.tight_layout()\n",
    "plt.show()\n"
   ]
  }
 ],
 "metadata": {
  "kernelspec": {
   "display_name": "Python 3",
   "language": "python",
   "name": "python3"
  },
  "language_info": {
   "codemirror_mode": {
    "name": "ipython",
    "version": 3
   },
   "file_extension": ".py",
   "mimetype": "text/x-python",
   "name": "python",
   "nbconvert_exporter": "python",
   "pygments_lexer": "ipython3",
   "version": "3.13.2"
  }
 },
 "nbformat": 4,
 "nbformat_minor": 2
}
